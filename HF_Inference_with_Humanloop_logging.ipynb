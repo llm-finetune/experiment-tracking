{
  "nbformat": 4,
  "nbformat_minor": 0,
  "metadata": {
    "colab": {
      "provenance": [],
      "gpuType": "T4",
      "authorship_tag": "ABX9TyOhXaHsMZ1z/R+iHRxxBDAy",
      "include_colab_link": true
    },
    "kernelspec": {
      "name": "python3",
      "display_name": "Python 3"
    },
    "language_info": {
      "name": "python"
    },
    "accelerator": "GPU"
  },
  "cells": [
    {
      "cell_type": "markdown",
      "metadata": {
        "id": "view-in-github",
        "colab_type": "text"
      },
      "source": [
        "<a href=\"https://colab.research.google.com/github/llm-finetune/experiment-tracking/blob/main/HF_Inference_with_Humanloop_logging.ipynb\" target=\"_parent\"><img src=\"https://colab.research.google.com/assets/colab-badge.svg\" alt=\"Open In Colab\"/></a>"
      ]
    },
    {
      "cell_type": "code",
      "source": [
        "%%capture\n",
        "pip install humanloop"
      ],
      "metadata": {
        "id": "ga_AmcJ5VD-Y"
      },
      "execution_count": 1,
      "outputs": []
    },
    {
      "cell_type": "code",
      "execution_count": null,
      "metadata": {
        "id": "fe-QCbf83Bl-"
      },
      "outputs": [],
      "source": [
        "from humanloop import Humanloop\n",
        "from huggingface_hub import InferenceClient"
      ]
    },
    {
      "cell_type": "code",
      "source": [
        "# Initialize the SDK with your Humanloop API key\n",
        "humanloop = Humanloop(api_key=\"hl_sk_aa7a9dc8f7e4fa762bb8bddd585bb664ed752ad04ffe0d7e\")"
      ],
      "metadata": {
        "id": "d1OcMk7cVNH7"
      },
      "execution_count": 3,
      "outputs": []
    },
    {
      "cell_type": "code",
      "source": [
        "client = InferenceClient()"
      ],
      "metadata": {
        "id": "8q23vQJqVPib"
      },
      "execution_count": 4,
      "outputs": []
    },
    {
      "cell_type": "code",
      "source": [
        "#project_response = humanloop.projects.create(name=\"llm-finetune-sdk-tutorial\")"
      ],
      "metadata": {
        "id": "613mI9bcVSfB"
      },
      "execution_count": 5,
      "outputs": []
    },
    {
      "cell_type": "code",
      "source": [
        "#image = client.text_to_image(\"solar system\", model=\"Qwen/Qwen1.5-0.5B\")\n",
        "#image.save(\"solar.png\")"
      ],
      "metadata": {
        "id": "fMJS-kYJ3ruo"
      },
      "execution_count": 6,
      "outputs": []
    },
    {
      "cell_type": "code",
      "source": [
        "response = client.text_generation(\"The boy in the suit is \", max_new_tokens=12, details=True, model=\"Qwen/Qwen1.5-0.5B\")\n",
        "response"
      ],
      "metadata": {
        "colab": {
          "base_uri": "https://localhost:8080/",
          "height": 124
        },
        "id": "k2YTvwCO3vsf",
        "outputId": "a083987d-bd98-4ec1-9548-3c5b213550a9"
      },
      "execution_count": 7,
      "outputs": [
        {
          "output_type": "stream",
          "name": "stderr",
          "text": [
            "/usr/local/lib/python3.10/dist-packages/huggingface_hub/inference/_client.py:1491: UserWarning: API endpoint/model for text-generation is not served via TGI. Ignoring parameters ['watermark', 'stop', 'details', 'decoder_input_details'].\n",
            "  warnings.warn(\n",
            "/usr/local/lib/python3.10/dist-packages/huggingface_hub/inference/_client.py:1497: UserWarning: API endpoint/model for text-generation is not served via TGI. Parameter `details=True` will be ignored meaning only the generated text will be returned.\n",
            "  warnings.warn(\n"
          ]
        },
        {
          "output_type": "execute_result",
          "data": {
            "text/plain": [
              "'15 years old．（对划线部分提问）'"
            ],
            "application/vnd.google.colaboratory.intrinsic+json": {
              "type": "string"
            }
          },
          "metadata": {},
          "execution_count": 7
        }
      ]
    },
    {
      "cell_type": "code",
      "source": [
        "project_id = \"pr_LEmRTOQ798xcBwKUdlciT\""
      ],
      "metadata": {
        "id": "89zLIoR8Q9QU"
      },
      "execution_count": 8,
      "outputs": []
    },
    {
      "cell_type": "code",
      "source": [
        "# Log the inputs, outputs and model config to your project.\n",
        "log_response = humanloop.log(\n",
        "    project=project_id,\n",
        "    inputs={\"prompt\":\"The boy in the suit is\"},\n",
        "    output=response,\n",
        "    config={\n",
        "        \"model\": \"Qwen/Qwen1.5-0.5B\",\n",
        "        \"prompt_template\": \"Answer the following question like Paul Graham from YCombinator:\\n{{question}}\",\n",
        "        \"temperature\": 0.2,\n",
        "    },\n",
        ")"
      ],
      "metadata": {
        "id": "1RYu0PeTVg3V"
      },
      "execution_count": 10,
      "outputs": []
    },
    {
      "cell_type": "code",
      "source": [],
      "metadata": {
        "id": "mDKuFEBUWI9Z"
      },
      "execution_count": null,
      "outputs": []
    }
  ]
}